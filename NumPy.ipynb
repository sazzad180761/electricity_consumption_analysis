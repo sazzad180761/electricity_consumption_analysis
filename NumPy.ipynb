{
  "nbformat": 4,
  "nbformat_minor": 0,
  "metadata": {
    "colab": {
      "provenance": []
    },
    "kernelspec": {
      "name": "python3",
      "display_name": "Python 3"
    },
    "language_info": {
      "name": "python"
    }
  },
  "cells": [
    {
      "cell_type": "markdown",
      "source": [
        "**Daily Electricity Consumption Analysis**\n",
        "Create random data of hourly unit consumption for 30 days in 24 hours (shape: 30x24).\n",
        "\n",
        "Your task:\n",
        "01. Which day has the highest unit consumption?\n",
        "02. Which hour has the highest average unit consumption?\n",
        "03. Which days have the average consumption more than 80?"
      ],
      "metadata": {
        "id": "8b5LpsKLrWi1"
      }
    },
    {
      "cell_type": "code",
      "execution_count": 4,
      "metadata": {
        "colab": {
          "base_uri": "https://localhost:8080/"
        },
        "id": "IaFhBCuyq8tA",
        "outputId": "2591cd47-3096-428f-9763-fca51ed23eeb"
      },
      "outputs": [
        {
          "output_type": "stream",
          "name": "stdout",
          "text": [
            "The consumption of 24 hours of 30 days :\n",
            " [[107  81 120 111  55  83  96  87  69  56  55  71  86  97  50  74  96  75\n",
            "   60  91  80  48  92  96]\n",
            " [119  95 111 111  59  71  64  60  75  89  48 102 119  76  71  69 102  80\n",
            "  104  99  40  65  53 112]\n",
            " [ 75  85  64  59  65 119 102  72  47  62 102  97 113  64  85  64  51  90\n",
            "   78 116  95 111  59  86]\n",
            " [ 84  43 119  64  90  73  66  44  48  51  60  58 114  66  95  68  54 119\n",
            "   46  40  74 106  52  70]\n",
            " [ 79 103  42 101  98  61 119  94  84  88  81  85  53  50 109  70  69 120\n",
            "   41 106  55  72  83  42]\n",
            " [ 87  54 115 105 109  75 103  67 101  71  60  67 110 114  75 113  65  55\n",
            "   50  45  44  64  99  53]\n",
            " [ 91  71  64  76  43  71  56  76 100 120  67  68 108  63 101 105  90  62\n",
            "   52  41  95  64  60  69]\n",
            " [114  98  43  79 117 108  43  64  59 110  99 100  72 109 107  52  67  44\n",
            "  117  71  56 119  79  41]\n",
            " [ 55  79 117  44  51 119  98 117  56 115  93  72 118 111 109  43 104  47\n",
            "   53  88  52  41  88 108]\n",
            " [ 74  87 110  95  41  46  47  87 100  56 109  85  55 118  56  55  55  47\n",
            "  106  50  77  45 105  97]\n",
            " [100  43  93 103  62  99  75  42  65  45 101  79  84  50  55  56 111  67\n",
            "   53 119  99  57  63  98]\n",
            " [ 65 111  67  51  55  54  49 101 113  51  78 117 102  61  43  63  91  65\n",
            "   95  66  76  70  72 103]\n",
            " [101  56  42  83 114  41 116  73  78 102  84 110  44  85  40  79  62 105\n",
            "  114  45 105  83 104  91]\n",
            " [ 77  93  48 107  64  68  66  70  67  51  87  72  66  55  85  52 105  89\n",
            "   68  48  71  94 113  56]\n",
            " [ 93  85  92  80  72  90 114 101  87  88 103  47 100  59  55  96  71  82\n",
            "  112  45  76  79 109  92]\n",
            " [ 71 117  66  93 114  90  85  60 117  87 105 114  53 119 120  97 107  77\n",
            "   65 114 110  95 118  61]\n",
            " [ 42  44  99  53  58  54 102  77  42 111  89 108 106 118 104  63 117 108\n",
            "   70 110  50 110  54  56]\n",
            " [ 85  89  77  63  56  41 116  60  98  62  56  45 120  60  57  64  53  77\n",
            "  110  74  93  42 119 101]\n",
            " [ 88  55  50  51 110 108  71 105  78  98  72  57 109 106  99 114 117  65\n",
            "  103  69  55  45  49  68]\n",
            " [ 99  88  59 107  48  98 113  85 100  72  53 101  87  72  64  91 104  42\n",
            "   92  42  77 104  81  50]\n",
            " [ 77  66  49  55  63  80  91 110  78  52  58 107 120  95  91 114  86  80\n",
            "   41  51  71  99  44  57]\n",
            " [ 75 118  73  90  65 120  73 118 116  62 108 119  62 115 119  56 106  55\n",
            "   72  99  72  56 110  62]\n",
            " [ 89  41  42 109  79 102 120  63  90  51  97 105  47  49  95  83  62  81\n",
            "   91 109  97  97  75  55]\n",
            " [ 77  66  56  62 120 103  66  84 109  58  61 110 108  65  55  65  74  68\n",
            "  108  48  44  64  51  82]\n",
            " [ 43 112  95  67  90  68  64  50 109  85 108 112  78  55 108  48 102  53\n",
            "   78  90  43  76  49  91]\n",
            " [ 76  76  90 118 103  58 100  79  95 119 113  63  64  44  63 105  78 116\n",
            "   88  63  44  52 114  73]\n",
            " [117  71  94 120  45  87  53 117  73 112  55 106  56  80 119  95  79  61\n",
            "   63  86  41  49  59  90]\n",
            " [105  53  44  94  72  41  50  58  59  62  57  52  96  63  48  63  49 110\n",
            "  106 112  58  50  98  44]\n",
            " [101  88  62  69  43  54  79  91  85  62  92  40  59  46  73  51  59  94\n",
            "   75  42  78  56  60 114]\n",
            " [ 80  78  88 105  46  70  95  96  74 108  73 102  52  55  80  79  71  53\n",
            "   94  51 115  96  40  42]]\n",
            "Sum of daily unit consumption :\n",
            " [1936 1994 1961 1704 1905 1901 1813 1968 1978 1803 1819 1819 1957 1772\n",
            " 2028 2255 1945 1818 1942 1929 1835 2121 1929 1804 1874 1994 1928 1644\n",
            " 1673 1843]\n",
            "Day 16 has the highest unit consumption with 2255 units.\n",
            "The hour wise average consumption :\n",
            " [84.86666667 78.2        76.36666667 84.16666667 73.56666667 78.4\n",
            " 83.06666667 80.26666667 82.4        78.53333333 80.8        85.7\n",
            " 85.36666667 77.33333333 81.03333333 74.9        81.9        76.23333333\n",
            " 80.16666667 74.33333333 71.43333333 73.63333333 78.4        75.33333333]\n",
            "Hour 12 has the highest average unit consumption with 85.7\n",
            "The day wise average consumption :\n",
            " [80.66666667 83.08333333 81.70833333 71.         79.375      79.20833333\n",
            " 75.54166667 82.         82.41666667 75.125      75.79166667 75.79166667\n",
            " 81.54166667 73.83333333 84.5        93.95833333 81.04166667 75.75\n",
            " 80.91666667 80.375      76.45833333 88.375      80.375      75.16666667\n",
            " 78.08333333 83.08333333 80.33333333 68.5        69.70833333 76.79166667]\n",
            "The days of average consumption more than 80s are :\n",
            "[ 1  2  3  8  9 13 15 16 17 19 20 22 23 26 27]\n"
          ]
        }
      ],
      "source": [
        "import numpy as np\n",
        "# Generate a (30x24) array with random integer between 40-120.\n",
        "consumption= np.random.randint(40,121,size=(30,24))\n",
        "print('The consumption of 24 hours of 30 days :\\n',consumption)\n",
        "days_sum= np.sum(consumption,axis=1)\n",
        "print('Sum of daily unit consumption :\\n',days_sum)\n",
        "max_days_index=np.argmax(days_sum)\n",
        "max_days_sum= days_sum[max_days_index]\n",
        "print(f'Day {max_days_index+1} has the highest unit consumption with {max_days_sum} units.')\n",
        "\n",
        "hour_mean= np.mean(consumption,axis=0)\n",
        "print('The hour wise average consumption :\\n',hour_mean)\n",
        "max_hour_index=np.argmax(hour_mean)\n",
        "max_hour= hour_mean[max_hour_index]\n",
        "print(f'Hour {max_hour_index +1} has the highest average unit consumption with {max_hour}')\n",
        "\n",
        "days_mean=np.mean(consumption,axis=1)\n",
        "print('The day wise average consumption :\\n',days_mean)\n",
        "max_days_index=np.where(days_mean >80)[0]\n",
        "max_day=(max_days_index + 1)\n",
        "print('The days of average consumption more than 80s are :')\n",
        "print(max_day)\n"
      ]
    }
  ]
}